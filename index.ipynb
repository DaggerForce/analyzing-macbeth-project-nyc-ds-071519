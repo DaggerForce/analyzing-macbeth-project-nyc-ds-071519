{
 "cells": [
  {
   "cell_type": "markdown",
   "metadata": {},
   "source": [
    "# Project: Analyzing Macbeth\n",
    "\n",
    "## Introduction\n",
    "For our first day and first data science project, we're going to do some rudimentry analysis of Shakespeare's classic play: Macbeth! You will get practice working with lists, condtionals and dictionaries, visualizing data, and thinking analytically about data.\n",
    "\n",
    "## Objectives\n",
    "You will be able to:\n",
    "* Show mastery of the content covered in this section\n",
    "\n",
    "## Getting the Data\n",
    "Here we start by importing a python package and using it to pull the transcript of Macbeth from the project Gutenberg website. We also preview a few details about what is now stored in the variable macbeth; it's a string with 119,846 characters, the first 500 of which are printed below. "
   ]
  },
  {
   "cell_type": "code",
   "execution_count": 99,
   "metadata": {
    "scrolled": false
   },
   "outputs": [],
   "source": [
    "import requests\n",
    "macbeth = requests.get('http://www.gutenberg.org/cache/epub/2264/pg2264.txt').text\n",
    "macbeth1 = macbeth[16675:]\n",
    "#print(type(macbeth))\n",
    "#print(len(macbeth))\n",
    "#print(macbeth[:16675])\n",
    "#print(macbeth1)"
   ]
  },
  {
   "cell_type": "markdown",
   "metadata": {},
   "source": [
    "## Your Task\n",
    "\n",
    "Your task is to create a bar graph of the 25 most common words in Shakespeare's Macbeth.  \n",
    "\n",
    "\n",
    "A common python programming pattern to counting objects, produce histograms, or update statistics is to make calls to a dictionary as you iterate through a list. For example, given a list of words, you can create a dictionary to store counts and then iterate through the list of words, checking how many times each word has appeared using your dictionary, and updating the dictionary count now that you've seen that word again. The `dictionary.get()` method is very useful in doing this. Read the docstring for the dictionary.get() method and use it along with the pseudocode above to create a bar graph of the 25 most common words from the transcript of Macbeth which has been loaded into a variable 'Macbeth'. Be sure to include a title and appropriate labels for your graph."
   ]
  },
  {
   "cell_type": "code",
   "execution_count": 140,
   "metadata": {},
   "outputs": [
    {
     "data": {
      "image/png": "[encoded data removed]",
      "text/plain": [
       "<Figure size 792x360 with 1 Axes>"
      ]
     },
     "metadata": {
      "needs_background": "light"
     },
     "output_type": "display_data"
    }
   ],
   "source": [
    "# Your code here\n",
    "import re\n",
    "import matplotlib.pyplot as plt\n",
    "%matplotlib inline\n",
    "\n",
    "# Split the transcript into words\n",
    "def clean_text(text):\n",
    "    clean_text = re.findall(r\"[\\w']+\", text)\n",
    "    return clean_text\n",
    "cleaned_text = clean_text(macbeth1)\n",
    "\n",
    "# Create a dictionary\n",
    "def get_word_frequency(text):\n",
    "    underscore_text = list(map(lambda word: word.lower(), text))\n",
    "    frequency = {}\n",
    "    for word in underscore_text:\n",
    "        count = frequency.get(word, 0)\n",
    "        frequency[word] = count + 1            \n",
    "    return frequency \n",
    "word_freq = get_word_frequency(cleaned_text)\n",
    "\n",
    "# Create Bar Graph\n",
    "top_results = sorted(word_freq.items(), key = lambda kv:(kv[1], kv[0]), \n",
    "                     reverse=True)\n",
    "top_results25 = top_results[:25]\n",
    "\n",
    "\n",
    "plt.figure(figsize=(11,5))\n",
    "x = []\n",
    "y = []\n",
    "for word_pair in top_results25:\n",
    "    x.append(word_pair[0])\n",
    "    y.append(word_pair[1])\n",
    "    \n",
    "plt.bar(x, y, label='Word is the Word')\n",
    "\n",
    "#Include descriptive titles and labels\n",
    "plt.xlabel('Word')\n",
    "plt.ylabel('Frequency')\n",
    "plt.xticks(rotation=45)\n",
    "plt.title('Most Frequent Words in Macbeth')\n",
    "plt.show()"
   ]
  },
  {
   "cell_type": "markdown",
   "metadata": {},
   "source": [
    "## Level Up (Optional)\n",
    "This project should take you about an hour and a half to complete. If you're done much more quickly than that and are not behind in the course, feel free to deepen your knowledge by completing any or all of the following tasks until you run out of time:\n",
    "* Create a list of top characters by mentions of their names \n",
    "* Split the text by which character is talking\n",
    "* Create subgraphs of the most common words by character\n",
    "* Reduce the string to the text of the play itself. (Remove any initial notes, forward, introduction, appendix, etc.)\n",
    "* Come up with some other fun analyses of the text!\n",
    "\n",
    "## Summary\n",
    "Congratulations! You've got some extra practice combining various data types into useful programming patterns and done an initial analysis of a classic text!"
   ]
  },
  {
   "cell_type": "code",
   "execution_count": 146,
   "metadata": {},
   "outputs": [
    {
     "data": {
      "text/plain": [
       "{'macbeth': 64,\n",
       " 'duncan': 16,\n",
       " 'lady macbeth': 0,\n",
       " 'banquo': 40,\n",
       " 'three witches': 0,\n",
       " 'malcolm': 16,\n",
       " 'donalbain': 7,\n",
       " 'macduff': 28,\n",
       " 'lennox': 0,\n",
       " 'rosse': 49,\n",
       " 'menteth': 2,\n",
       " 'angus': 6,\n",
       " 'cathness': 0,\n",
       " 'fleance': 4,\n",
       " 'siward': 0,\n",
       " 'young siward': 0,\n",
       " 'seyton': 6,\n",
       " 'son to macduff': 0,\n",
       " 'english doctr': 0,\n",
       " 'doctor of physic': 1,\n",
       " 'sergeant': 0,\n",
       " 'porter': 5,\n",
       " 'old man': 0,\n",
       " 'first murderer': 0,\n",
       " 'second murderer': 0,\n",
       " 'third murderer': 0,\n",
       " 'lady macduff': 0,\n",
       " 'gentlewoman': 1,\n",
       " 'forth witch': 0,\n",
       " 'fifth witch': 0,\n",
       " 'sixth witch': 0,\n",
       " 'hecat': 3,\n",
       " 'first apparition': 0,\n",
       " 'second apparition': 0,\n",
       " 'third apparition': 0,\n",
       " 'servant': 0,\n",
       " 'messenger': 6,\n",
       " 'lord': 46,\n",
       " 'soldiers': 5}"
      ]
     },
     "execution_count": 146,
     "metadata": {},
     "output_type": "execute_result"
    }
   ],
   "source": [
    "characters_list = ['Macbeth', 'Duncan', 'Lady Macbeth', \n",
    "                   'Banquo', 'Three Witches', 'Malcolm', \n",
    "                   'Donalbain', 'Macduff', 'Lennox', 'Rosse', \n",
    "                   'Menteth', 'Angus', 'Cathness', 'Fleance', \n",
    "                   'Siward', 'Young Siward', 'Seyton', \n",
    "                   'Son to Macduff', 'English Doctr', \n",
    "                   'Doctor of Physic', 'Sergeant', 'Porter',\n",
    "                   'Old Man', 'First Murderer', 'Second Murderer',\n",
    "                   'Third Murderer', 'Lady Macduff',\n",
    "                   'Gentlewoman', 'Forth witch', 'Fifth Witch',\n",
    "                   'Sixth Witch', 'Hecat', 'First Apparition',\n",
    "                   'Second Apparition', 'Third Apparition',\n",
    "                   'Servant', 'Messenger', 'Lord', 'Soldiers',\n",
    "                  ]\n",
    "\n",
    "def top_characters_mentions(text, character_list):\n",
    "    \"\"\"This functions returns the character names sorted by how many times \n",
    "       they were mentioned\"\"\"\n",
    "    reduced_text = clean_text(text)\n",
    "    \n",
    "    word_freq = get_word_frequency(reduced_text)\n",
    "    #get character mentions\n",
    "    char_mentions = {}\n",
    "    for name in character_list:\n",
    "        char_mentions[name.lower()] = text.count(name)\n",
    "    return char_mentions\n",
    "\n",
    "#     for char, mention in word_freq.items():\n",
    "#         if char.title() in character_list:\n",
    "#             char_mentions[char] = mention\n",
    "#     return char_mentions\n",
    "\n",
    "\n",
    "top_characters_mentions(macbeth1, characters_list)"
   ]
  },
  {
   "cell_type": "code",
   "execution_count": 160,
   "metadata": {},
   "outputs": [
    {
     "name": "stdout",
     "output_type": "stream",
     "text": [
      "[0, 0, 1, 1, 2, 3, 4, 4, 4, 5, 5, 5, 5, 5, 5, 5]\n",
      "[6, 6, 6, 6, 6, 6, 7, 7, 7, 7, 7, 8, 8, 8, 8, 9]\n"
     ]
    }
   ],
   "source": [
    "a = [4 ,4 ,4 ,9 ,5 ,0 ,5 ,1 ,5 ,3 ,5 ,7 ,5 ,8 ,6 ,2 ,6 ,6 ,6 ,6 ,6 ,8 ,7 ,1 ,7 ,5 ,7 ,7 ,8 ,0 ,8, 5]\n",
    "a = sorted(a)\n",
    "print(a[0:16])\n",
    "print(a[16:])\n"
   ]
  },
  {
   "cell_type": "code",
   "execution_count": null,
   "metadata": {},
   "outputs": [],
   "source": []
  }
 ],
 "metadata": {
  "kernelspec": {
   "display_name": "Python 3",
   "language": "python",
   "name": "python3"
  },
  "language_info": {
   "codemirror_mode": {
    "name": "ipython",
    "version": 3
   },
   "file_extension": ".py",
   "mimetype": "text/x-python",
   "name": "python",
   "nbconvert_exporter": "python",
   "pygments_lexer": "ipython3",
   "version": "3.7.2"
  }
 },
 "nbformat": 4,
 "nbformat_minor": 2
}
